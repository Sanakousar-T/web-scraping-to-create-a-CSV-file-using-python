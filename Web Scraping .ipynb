{
 "cells": [
  {
   "cell_type": "markdown",
   "metadata": {},
   "source": [
    "# Web Scraping to Create a CSV File"
   ]
  },
  {
   "cell_type": "markdown",
   "metadata": {},
   "source": [
    "#### What is Web Scraping?\n",
    "<p>Web Scripting is an automatic method to obtain large amounts of data from websites. Most of this data is unstructured data in an HTML format which is then converted into structured data in a spreadsheet or a database so that it can be used in various applications.</p>"
   ]
  },
  {
   "cell_type": "markdown",
   "metadata": {},
   "source": [
    "<p> \n",
    "I will scrape data from Flipkart and create a CSV file from that data.</p>\n",
    "<p>we need two primary packages for this task, BeautifulSoup and urllib. We can easily install both these packages using the pip command – pip install bs4 and pip install urllib. After successfully installing these packages the next thing you need to do is importing these packages, so let’s import these and scrape the link we need to collect data from:</p>\n"
   ]
  },
  {
   "cell_type": "code",
   "execution_count": 4,
   "metadata": {},
   "outputs": [],
   "source": [
    "from bs4 import BeautifulSoup as soup\n",
    "from urllib.request import urlopen as uReq"
   ]
  },
  {
   "cell_type": "code",
   "execution_count": 73,
   "metadata": {},
   "outputs": [],
   "source": [
    "my_url=\"https://www.flipkart.com/search?q=iphone&sid=tyy%2C4io&as=on&as-show=on&otracker=AS_QueryStore_OrganicAutoSuggest_2_2_na_na_na&otracker1=AS_QueryStore_OrganicAutoSuggest_2_2_na_na_na&as-pos=2&as-type=RECENT&suggestionId=iphone%7CMobiles&requestId=5be15e1b-c788-4d25-9ffb-7e54a889f513&as-searchtext=ip\"\n",
    "\n",
    "uClient = uReq(my_url)\n",
    "page_html = uClient.read()\n",
    "uClient.close()\n",
    "page_soup = soup(page_html, \"html.parser\")"
   ]
  },
  {
   "cell_type": "markdown",
   "metadata": {},
   "source": [
    "<p>Now let’s see how many HTML containers are present in this link:</p>"
   ]
  },
  {
   "cell_type": "code",
   "execution_count": 74,
   "metadata": {},
   "outputs": [
    {
     "name": "stdout",
     "output_type": "stream",
     "text": [
      "24\n"
     ]
    }
   ],
   "source": [
    "containers = page_soup.findAll(\"div\", { \"class\": \"_13oc-S\"})\n",
    "print(len(containers)) "
   ]
  },
  {
   "cell_type": "code",
   "execution_count": 75,
   "metadata": {},
   "outputs": [
    {
     "name": "stdout",
     "output_type": "stream",
     "text": [
      "<div class=\"_13oc-S\">\n",
      " <div data-id=\"MOBF9Z7ZPHGV4GNH\" style=\"width:100%\">\n",
      "  <div class=\"_2kHMtA\">\n",
      "   <a class=\"_1fQZEK\" href=\"/apple-iphone-xr-black-64-gb-includes-earpods-power-adapter/p/itmf9z7zxu4uqyz2?pid=MOBF9Z7ZPHGV4GNH&amp;lid=LSTMOBF9Z7ZPHGV4GNH9IFADQ&amp;marketplace=FLIPKART&amp;q=iphone&amp;store=tyy%2F4io&amp;srno=s_1_1&amp;otracker=AS_QueryStore_OrganicAutoSuggest_2_2_na_na_na&amp;otracker1=AS_QueryStore_OrganicAutoSuggest_2_2_na_na_na&amp;fm=organic&amp;iid=ad16d3b3-0ab4-4cfb-b15e-5bc5ce303c47.MOBF9Z7ZPHGV4GNH.SEARCH&amp;ssid=en5tmbww9c0000001615729178479&amp;qH=0b3f45b266a97d70\" rel=\"noopener noreferrer\" target=\"_blank\">\n",
      "    <div class=\"MIXNux\">\n",
      "     <div class=\"_2QcLo-\">\n",
      "      <div>\n",
      "       <div class=\"CXW8mj\" style=\"height:200px;width:200px\">\n",
      "        <img alt=\"Apple iPhone XR (Black, 64 GB) (Includes EarPods, Power Adapter)\" class=\"_396cs4\" src=\"//static-assets-web.flixcart.com/www/linchpin/fk-cp-zion/img/placeholder_fcebae.svg\"/>\n",
      "       </div>\n",
      "      </div>\n",
      "     </div>\n",
      "     <div class=\"_3wLduG\">\n",
      "      <div class=\"_3PzNI-\">\n",
      "       <span class=\"f3A4_V\">\n",
      "        <div class=\"_2iDkf8\">\n",
      "         <label>\n",
      "          <input class=\"_30VH1S\" readonly=\"\" type=\"checkbox\"/>\n",
      "          <div class=\"_24_Dny\">\n",
      "          </div>\n",
      "         </label>\n",
      "        </div>\n",
      "       </span>\n",
      "       <label class=\"_6Up2sF\">\n",
      "        <span>\n",
      "         Add to Compare\n",
      "        </span>\n",
      "       </label>\n",
      "      </div>\n",
      "     </div>\n",
      "     <div class=\"_2hVSre _3nq8ih\">\n",
      "      <div class=\"_36FSn5\">\n",
      "       <svg class=\"_1l0elc\" height=\"16\" viewbox=\"0 0 20 16\" width=\"16\" xmlns=\"http://www.w3.org/2000/svg\">\n",
      "        <path class=\"eX72wL\" d=\"M8.695 16.682C4.06 12.382 1 9.536 1 6.065 1 3.219 3.178 1 5.95 1c1.566 0 3.069.746 4.05 1.915C10.981 1.745 12.484 1 14.05 1 16.822 1 19 3.22 19 6.065c0 3.471-3.06 6.316-7.695 10.617L10 17.897l-1.305-1.215z\" fill=\"#2874F0\" fill-rule=\"evenodd\" opacity=\".9\" stroke=\"#FFF\">\n",
      "        </path>\n",
      "       </svg>\n",
      "      </div>\n",
      "     </div>\n",
      "    </div>\n",
      "    <div class=\"_3pLy-c row\">\n",
      "     <div class=\"col col-7-12\">\n",
      "      <div class=\"_4rR01T\">\n",
      "       Apple iPhone XR (Black, 64 GB) (Includes EarPods, Power Adapter)\n",
      "      </div>\n",
      "      <div class=\"gUuXy-\">\n",
      "       <span class=\"_1lRcqv\" id=\"productRating_LSTMOBF9Z7ZPHGV4GNH9IFADQ_MOBF9Z7ZPHGV4GNH_\">\n",
      "        <div class=\"_3LWZlK\">\n",
      "         4.6\n",
      "         <img class=\"_1wB99o\" src=\"data:image/svg+xml;base64,PHN2ZyB4bWxucz0iaHR0cDovL3d3dy53My5vcmcvMjAwMC9zdmciIHdpZHRoPSIxMyIgaGVpZ2h0PSIxMiI+PHBhdGggZmlsbD0iI0ZGRiIgZD0iTTYuNSA5LjQzOWwtMy42NzQgMi4yMy45NC00LjI2LTMuMjEtMi44ODMgNC4yNTQtLjQwNEw2LjUuMTEybDEuNjkgNC4wMSA0LjI1NC40MDQtMy4yMSAyLjg4Mi45NCA0LjI2eiIvPjwvc3ZnPg==\"/>\n",
      "        </div>\n",
      "       </span>\n",
      "       <span class=\"_2_R_DZ\">\n",
      "        <span>\n",
      "         <span>\n",
      "          76,705 Ratings\n",
      "         </span>\n",
      "         <span class=\"_13vcmD\">\n",
      "          &amp;\n",
      "         </span>\n",
      "         <span>\n",
      "          6,555 Reviews\n",
      "         </span>\n",
      "        </span>\n",
      "       </span>\n",
      "      </div>\n",
      "      <div class=\"fMghEO\">\n",
      "       <ul class=\"_1xgFaf\">\n",
      "        <li class=\"rgWa7D\">\n",
      "         64 GB ROM\n",
      "        </li>\n",
      "        <li class=\"rgWa7D\">\n",
      "         15.5 cm (6.102 inch) Display\n",
      "        </li>\n",
      "        <li class=\"rgWa7D\">\n",
      "         12MP Rear Camera | 7MP Front Camera\n",
      "        </li>\n",
      "        <li class=\"rgWa7D\">\n",
      "         A12 Bionic Chip Processor\n",
      "        </li>\n",
      "        <li class=\"rgWa7D\">\n",
      "         iOS 13 Compatible\n",
      "        </li>\n",
      "        <li class=\"rgWa7D\">\n",
      "         Brand Warranty of 1 Year\n",
      "        </li>\n",
      "       </ul>\n",
      "      </div>\n",
      "     </div>\n",
      "     <div class=\"col col-5-12 nlI3QM\">\n",
      "      <div class=\"_3tbKJL\">\n",
      "       <div class=\"_25b18c\">\n",
      "        <div class=\"_30jeq3 _1_WHN1\">\n",
      "         ₹43,999\n",
      "        </div>\n",
      "        <div class=\"_3I9_wc _27UcVY\">\n",
      "         ₹\n",
      "         <!-- -->\n",
      "         47,900\n",
      "        </div>\n",
      "        <div class=\"_3Ay6Sb\">\n",
      "         <span>\n",
      "          8% off\n",
      "         </span>\n",
      "        </div>\n",
      "       </div>\n",
      "      </div>\n",
      "      <div class=\"_13J9qT\">\n",
      "       <img height=\"21\" src=\"//static-assets-web.flixcart.com/www/linchpin/fk-cp-zion/img/fa_62673a.png\"/>\n",
      "      </div>\n",
      "      <div class=\"_2ZdXDB\">\n",
      "       <div class=\"_18hQoS\" style=\"color:#000000;font-size:12px;font-family:inherit;font-weight:normal\">\n",
      "        No Cost EMI\n",
      "       </div>\n",
      "      </div>\n",
      "      <div class=\"_2ZdXDB\">\n",
      "       <div class=\"_18hQoS\" style=\"color:#000000;font-size:14px;font-family:inherit;font-weight:normal\">\n",
      "        Upto\n",
      "       </div>\n",
      "       <div class=\"_18hQoS\" style=\"color:#000000;font-size:14px;font-family:inherit;font-weight:bold\">\n",
      "        ₹16,500\n",
      "       </div>\n",
      "       <div class=\"_18hQoS\" style=\"color:#000000;font-size:14px;font-family:inherit;font-weight:normal\">\n",
      "        Off on Exchange\n",
      "       </div>\n",
      "      </div>\n",
      "     </div>\n",
      "    </div>\n",
      "   </a>\n",
      "  </div>\n",
      " </div>\n",
      "</div>\n"
     ]
    }
   ],
   "source": [
    "print(soup.prettify(containers[0]))"
   ]
  },
  {
   "cell_type": "markdown",
   "metadata": {},
   "source": [
    "<p>Now let’s see the first item present in the page:</p>"
   ]
  },
  {
   "cell_type": "code",
   "execution_count": 76,
   "metadata": {},
   "outputs": [
    {
     "name": "stdout",
     "output_type": "stream",
     "text": [
      "Apple iPhone XR (Black, 64 GB) (Includes EarPods, Power Adapter)\n"
     ]
    }
   ],
   "source": [
    "container = containers[0]\n",
    "print(container.div.img[\"alt\"])"
   ]
  },
  {
   "cell_type": "markdown",
   "metadata": {},
   "source": [
    "<p>So we have Apple iPhone XR smartphone with Black colour as the first item on the Flipkart webpage that we have scrapped. Now let’s have a look at the price of this smartphone:</p>"
   ]
  },
  {
   "cell_type": "code",
   "execution_count": 81,
   "metadata": {},
   "outputs": [
    {
     "name": "stdout",
     "output_type": "stream",
     "text": [
      "₹43,999₹47,9008% offNo Cost EMIUpto ₹16,500 Off on Exchange\n"
     ]
    }
   ],
   "source": [
    "price = container.findAll(\"div\", {\"class\": \"col col-5-12 nlI3QM\"})\n",
    "print(price[0].text)"
   ]
  },
  {
   "cell_type": "markdown",
   "metadata": {},
   "source": [
    "<p>Now let’s have a look at its ratings from its customers:</p>"
   ]
  },
  {
   "cell_type": "code",
   "execution_count": 86,
   "metadata": {},
   "outputs": [
    {
     "name": "stdout",
     "output_type": "stream",
     "text": [
      "76,705 Ratings & 6,555 Reviews\n"
     ]
    }
   ],
   "source": [
    "ratings = container.findAll(\"span\",{\"class\": \"_2_R_DZ\"})\n",
    "print(ratings[0].text)"
   ]
  },
  {
   "cell_type": "markdown",
   "metadata": {},
   "source": [
    "Now let’s create a CSV file and store all the mobile phones with their name, price and ratings:"
   ]
  },
  {
   "cell_type": "code",
   "execution_count": 91,
   "metadata": {},
   "outputs": [
    {
     "data": {
      "text/plain": [
       "32"
      ]
     },
     "execution_count": 91,
     "metadata": {},
     "output_type": "execute_result"
    }
   ],
   "source": [
    "filename = \"products.csv\"\n",
    "f = open(filename, \"w\")\n",
    "headers = \"Product_Name, Pricing, Ratings \\n\"\n",
    "f.write(headers)"
   ]
  },
  {
   "cell_type": "markdown",
   "metadata": {},
   "source": [
    "Now let’s have a look at what our CSV file has stored after the web scraping of Flipkart:"
   ]
  },
  {
   "cell_type": "code",
   "execution_count": 93,
   "metadata": {},
   "outputs": [
    {
     "name": "stdout",
     "output_type": "stream",
     "text": [
      "Product_Name:Apple iPhone XR (Black, 64 GB) (Includes EarPods, Power Adapter)\n",
      "Price: ₹43,999₹47,9008% offNo Cost EMIUpto ₹16,500 Off on Exchange\n",
      "Ratings:76,705 Ratings & 6,555 Reviews\n",
      "Apple iPhone XR (Black| 64 GB) (Includes EarPods| Power Adapter),Rs.43999,76,705\n",
      "\n",
      "Product_Name:APPLE iPhone 11 (White, 64 GB)\n",
      "Price: ₹51,999₹54,9005% offNo Cost EMIUpto ₹16,500 Off on Exchange\n",
      "Ratings:34,325 Ratings & 2,678 Reviews\n",
      "APPLE iPhone 11 (White| 64 GB),Rs.51999,34,325\n",
      "\n",
      "Product_Name:APPLE iPhone 11 (Black, 64 GB)\n",
      "Price: ₹51,999₹54,9005% offNo Cost EMIUpto ₹16,500 Off on Exchange\n",
      "Ratings:34,325 Ratings & 2,678 Reviews\n",
      "APPLE iPhone 11 (Black| 64 GB),Rs.51999,34,325\n",
      "\n",
      "Product_Name:APPLE iPhone 11 (Green, 64 GB)\n",
      "Price: ₹51,999₹54,9005% offNo Cost EMIUpto ₹16,500 Off on Exchange\n",
      "Ratings:34,325 Ratings & 2,678 Reviews\n",
      "APPLE iPhone 11 (Green| 64 GB),Rs.51999,34,325\n",
      "\n",
      "Product_Name:Apple iPhone XR (Black, 128 GB) (Includes EarPods, Power Adapter)\n",
      "Price: ₹48,999₹52,9007% offNo Cost EMIUpto ₹16,500 Off on Exchange\n",
      "Ratings:76,705 Ratings & 6,555 Reviews\n",
      "Apple iPhone XR (Black| 128 GB) (Includes EarPods| Power Adapter),Rs.48999,76,705\n",
      "\n",
      "Product_Name:APPLE iPhone 11 (Purple, 64 GB)\n",
      "Price: ₹51,999₹54,9005% offNo Cost EMIUpto ₹16,500 Off on Exchange\n",
      "Ratings:34,325 Ratings & 2,678 Reviews\n",
      "APPLE iPhone 11 (Purple| 64 GB),Rs.51999,34,325\n",
      "\n",
      "Product_Name:Apple iPhone XR (White, 128 GB) (Includes EarPods, Power Adapter)\n",
      "Price: ₹48,999₹52,9007% offNo Cost EMIUpto ₹16,500 Off on Exchange\n",
      "Ratings:76,705 Ratings & 6,555 Reviews\n",
      "Apple iPhone XR (White| 128 GB) (Includes EarPods| Power Adapter),Rs.48999,76,705\n",
      "\n",
      "Product_Name:APPLE iPhone 11 (White, 128 GB)\n",
      "Price: ₹56,999₹59,9004% offNo Cost EMIUpto ₹16,500 Off on Exchange\n",
      "Ratings:34,325 Ratings & 2,678 Reviews\n",
      "APPLE iPhone 11 (White| 128 GB),Rs.56999,34,325\n",
      "\n",
      "Product_Name:Apple iPhone XR ((PRODUCT)RED, 128 GB) (Includes EarPods, Power Adapter)\n",
      "Price: ₹48,999₹52,9007% offNo Cost EMIUpto ₹16,500 Off on Exchange\n",
      "Ratings:76,705 Ratings & 6,555 Reviews\n",
      "Apple iPhone XR ((PRODUCT)RED| 128 GB) (Includes EarPods| Power Adapter),Rs.48999,76,705\n",
      "\n",
      "Product_Name:APPLE iPhone 11 (Black, 128 GB)\n",
      "Price: ₹56,999₹59,9004% offNo Cost EMIUpto ₹16,500 Off on Exchange\n",
      "Ratings:34,325 Ratings & 2,678 Reviews\n",
      "APPLE iPhone 11 (Black| 128 GB),Rs.56999,34,325\n",
      "\n",
      "Product_Name:Apple iPhone XR (Coral, 128 GB) (Includes EarPods, Power Adapter)\n",
      "Price: ₹48,999₹52,9007% offNo Cost EMIUpto ₹16,500 Off on Exchange\n",
      "Ratings:76,705 Ratings & 6,555 Reviews\n",
      "Apple iPhone XR (Coral| 128 GB) (Includes EarPods| Power Adapter),Rs.48999,76,705\n",
      "\n",
      "Product_Name:APPLE iPhone 11 (Red, 64 GB)\n",
      "Price: ₹51,999₹54,9005% offNo Cost EMIUpto ₹16,500 Off on Exchange\n",
      "Ratings:34,325 Ratings & 2,678 Reviews\n",
      "APPLE iPhone 11 (Red| 64 GB),Rs.51999,34,325\n",
      "\n",
      "Product_Name:APPLE iPhone 11 (Red, 128 GB)\n",
      "Price: ₹56,999₹59,9004% offNo Cost EMIUpto ₹16,500 Off on Exchange\n",
      "Ratings:34,325 Ratings & 2,678 Reviews\n",
      "APPLE iPhone 11 (Red| 128 GB),Rs.56999,34,325\n",
      "\n",
      "Product_Name:Apple iPhone XR (White, 64 GB) (Includes EarPods, Power Adapter)\n",
      "Price: ₹43,999₹47,9008% offNo Cost EMIUpto ₹16,500 Off on Exchange\n",
      "Ratings:76,705 Ratings & 6,555 Reviews\n",
      "Apple iPhone XR (White| 64 GB) (Includes EarPods| Power Adapter),Rs.43999,76,705\n",
      "\n",
      "Product_Name:Apple iPhone XR (Coral, 64 GB) (Includes EarPods, Power Adapter)\n",
      "Price: ₹43,999₹47,9008% offNo Cost EMIUpto ₹16,500 Off on Exchange\n",
      "Ratings:76,705 Ratings & 6,555 Reviews\n",
      "Apple iPhone XR (Coral| 64 GB) (Includes EarPods| Power Adapter),Rs.43999,76,705\n",
      "\n",
      "Product_Name:Apple iPhone SE (Black, 256 GB) (Includes EarPods, Power Adapter)\n",
      "Price: ₹49,999₹54,9008% offNo Cost EMIUpto ₹16,500 Off on Exchange\n",
      "Ratings:92,145 Ratings & 7,894 Reviews\n",
      "Apple iPhone SE (Black| 256 GB) (Includes EarPods| Power Adapter),Rs.49999,92,145\n",
      "\n",
      "Product_Name:Apple iPhone XR ((PRODUCT)RED, 64 GB) (Includes EarPods, Power Adapter)\n",
      "Price: ₹43,999₹47,9008% offNo Cost EMIUpto ₹16,500 Off on Exchange\n",
      "Ratings:76,705 Ratings & 6,555 Reviews\n",
      "Apple iPhone XR ((PRODUCT)RED| 64 GB) (Includes EarPods| Power Adapter),Rs.43999,76,705\n",
      "\n",
      "Product_Name:APPLE iPhone 12 (White, 256 GB)\n",
      "Price: ₹94,900No Cost EMIUpto ₹16,500 Off on Exchange\n",
      "Ratings:1,819 Ratings & 166 Reviews\n",
      "APPLE iPhone 12 (White| 256 GB),Rs.94900No Cost ,1,819\n",
      "\n",
      "Product_Name:APPLE iPhone SE (White, 64 GB)\n",
      "Price: ₹34,999₹39,90012% offNo Cost EMIUpto ₹16,500 Off on Exchange\n",
      "Ratings:92,145 Ratings & 7,894 Reviews\n",
      "APPLE iPhone SE (White| 64 GB),Rs.34999,92,145\n",
      "\n",
      "Product_Name:APPLE iPhone 11 Pro (Midnight Green, 64 GB)\n",
      "Price: ₹82,999₹1,06,60022% offNo Cost EMIUpto ₹16,500 Off on Exchange\n",
      "Ratings:6,939 Ratings & 508 Reviews\n",
      "APPLE iPhone 11 Pro (Midnight Green| 64 GB),Rs.82999,6,939\n",
      "\n",
      "Product_Name:APPLE iPhone 11 (Yellow, 64 GB)\n",
      "Price: ₹51,999₹54,9005% offNo Cost EMIUpto ₹16,500 Off on Exchange\n",
      "Ratings:34,325 Ratings & 2,678 Reviews\n",
      "APPLE iPhone 11 (Yellow| 64 GB),Rs.51999,34,325\n",
      "\n",
      "Product_Name:APPLE iPhone 12 Pro Max (Pacific Blue, 512 GB)\n",
      "Price: ₹1,59,900No Cost EMIUpto ₹16,500 Off on Exchange\n",
      "Ratings:537 Ratings & 44 Reviews\n",
      "APPLE iPhone 12 Pro Max (Pacific Blue| 512 GB),Rs.159900No Cost ,537\n",
      "\n",
      "Product_Name:APPLE iPhone 12 (Blue, 64 GB)\n",
      "Price: ₹79,900No Cost EMIUpto ₹16,500 Off on Exchange\n",
      "Ratings:1,819 Ratings & 166 Reviews\n",
      "APPLE iPhone 12 (Blue| 64 GB),Rs.79900No Cost ,1,819\n",
      "\n",
      "Product_Name:Apple iPhone SE (Red, 256 GB) (Includes EarPods, Power Adapter)\n",
      "Price: ₹49,999₹54,9008% offNo Cost EMIUpto ₹16,500 Off on Exchange\n",
      "Ratings:92,145 Ratings & 7,894 Reviews\n",
      "Apple iPhone SE (Red| 256 GB) (Includes EarPods| Power Adapter),Rs.49999,92,145\n",
      "\n"
     ]
    }
   ],
   "source": [
    "for container in containers:\n",
    "    product_name = container.div.img[\"alt\"]\n",
    "    price_container = container.findAll(\"div\", {\"class\": \"col col-5-12 nlI3QM\"})\n",
    "    price = price_container[0].text.strip()\n",
    "\n",
    "    rating_container = container.findAll(\"span\",{\"class\": \"_2_R_DZ\"})\n",
    "    rating = rating_container[0].text\n",
    "    print(\"Product_Name:\"+ product_name)\n",
    "    print(\"Price: \" + price)\n",
    "    print(\"Ratings:\" + rating)\n",
    "    \n",
    "    trim_price=''.join(price.split(','))\n",
    "    rm_rupee = trim_price.split('₹')\n",
    "    add_rs_price = \"Rs.\"+rm_rupee[1]\n",
    "    split_price = add_rs_price.split('E')\n",
    "    final_price = split_price[0]\n",
    "\n",
    "    split_rating = rating.split(\" \")\n",
    "    final_rating = split_rating[0]\n",
    "\n",
    "    print(product_name.replace(\",\" ,\"|\") +\",\" + final_price +\",\" + final_rating + \"\\n\")\n",
    "    f.write(product_name.replace(\",\" ,\"|\") +\",\" + final_price +\",\" + final_rating + \"\\n\")\n",
    "f.close()"
   ]
  }
 ],
 "metadata": {
  "kernelspec": {
   "display_name": "Python 3",
   "language": "python",
   "name": "python3"
  },
  "language_info": {
   "codemirror_mode": {
    "name": "ipython",
    "version": 3
   },
   "file_extension": ".py",
   "mimetype": "text/x-python",
   "name": "python",
   "nbconvert_exporter": "python",
   "pygments_lexer": "ipython3",
   "version": "3.6.5"
  }
 },
 "nbformat": 4,
 "nbformat_minor": 2
}
